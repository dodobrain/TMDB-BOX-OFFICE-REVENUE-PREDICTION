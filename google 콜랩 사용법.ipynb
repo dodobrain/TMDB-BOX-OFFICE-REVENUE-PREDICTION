{
 "cells": [
  {
   "cell_type": "code",
   "execution_count": 1,
   "metadata": {
    "colab": {
     "base_uri": "https://localhost:8080/",
     "height": 34
    },
    "colab_type": "code",
    "executionInfo": {
     "elapsed": 4478,
     "status": "ok",
     "timestamp": 1556089248179,
     "user": {
      "displayName": "SSBB",
      "photoUrl": "",
      "userId": "02192221719466589460"
     },
     "user_tz": -540
    },
    "id": "26lr4IZDIugU",
    "outputId": "86eced3e-03d8-45cf-8de4-aac3afc4c1ca"
   },
   "outputs": [
    {
     "name": "stdout",
     "output_type": "stream",
     "text": [
      "Python 3.6.7\n"
     ]
    }
   ],
   "source": [
    "!python --version"
   ]
  },
  {
   "cell_type": "code",
   "execution_count": 2,
   "metadata": {
    "colab": {
     "base_uri": "https://localhost:8080/",
     "height": 34
    },
    "colab_type": "code",
    "executionInfo": {
     "elapsed": 2171,
     "status": "ok",
     "timestamp": 1556089250685,
     "user": {
      "displayName": "SSBB",
      "photoUrl": "",
      "userId": "02192221719466589460"
     },
     "user_tz": -540
    },
    "id": "3JUQHfWRJWXj",
    "outputId": "5196c6b2-fc16-4894-cfa5-c4088af15fb8"
   },
   "outputs": [
    {
     "name": "stdout",
     "output_type": "stream",
     "text": [
      "Ubuntu 18.04.2 LTS\n"
     ]
    }
   ],
   "source": [
    "# OS\n",
    "!cat /etc/issue.net"
   ]
  },
  {
   "cell_type": "code",
   "execution_count": 3,
   "metadata": {
    "colab": {
     "base_uri": "https://localhost:8080/",
     "height": 193
    },
    "colab_type": "code",
    "executionInfo": {
     "elapsed": 2129,
     "status": "ok",
     "timestamp": 1556089257557,
     "user": {
      "displayName": "SSBB",
      "photoUrl": "",
      "userId": "02192221719466589460"
     },
     "user_tz": -540
    },
    "id": "8tmRL4iEJZrT",
    "outputId": "b1cdd9b8-4c12-4f52-8226-01525865a482"
   },
   "outputs": [
    {
     "name": "stdout",
     "output_type": "stream",
     "text": [
      "processor\t: 0\n",
      "vendor_id\t: GenuineIntel\n",
      "cpu family\t: 6\n",
      "model\t\t: 63\n",
      "model name\t: Intel(R) Xeon(R) CPU @ 2.30GHz\n",
      "stepping\t: 0\n",
      "microcode\t: 0x1\n",
      "cpu MHz\t\t: 2300.000\n",
      "cache size\t: 46080 KB\n",
      "physical id\t: 0\n"
     ]
    }
   ],
   "source": [
    "# CPU 사양\n",
    "!head /proc/cpuinfo"
   ]
  },
  {
   "cell_type": "code",
   "execution_count": 4,
   "metadata": {
    "colab": {
     "base_uri": "https://localhost:8080/",
     "height": 70
    },
    "colab_type": "code",
    "executionInfo": {
     "elapsed": 2412,
     "status": "ok",
     "timestamp": 1556089270221,
     "user": {
      "displayName": "SSBB",
      "photoUrl": "",
      "userId": "02192221719466589460"
     },
     "user_tz": -540
    },
    "id": "fSgRuOGfJbXQ",
    "outputId": "f5056bd8-65c5-4510-d63f-7159488896d5"
   },
   "outputs": [
    {
     "name": "stdout",
     "output_type": "stream",
     "text": [
      "MemTotal:       13335276 kB\n",
      "MemFree:        11551092 kB\n",
      "MemAvailable:   12671652 kB\n"
     ]
    }
   ],
   "source": [
    "# 메모리 사양\n",
    "!head -n 3 /proc/meminfo"
   ]
  },
  {
   "cell_type": "code",
   "execution_count": 5,
   "metadata": {
    "colab": {
     "base_uri": "https://localhost:8080/",
     "height": 158
    },
    "colab_type": "code",
    "executionInfo": {
     "elapsed": 1789,
     "status": "ok",
     "timestamp": 1556089279093,
     "user": {
      "displayName": "SSBB",
      "photoUrl": "",
      "userId": "02192221719466589460"
     },
     "user_tz": -540
    },
    "id": "-woHrsTPJeYz",
    "outputId": "effe22ea-7d95-4a8c-9452-0c5772cbe75f"
   },
   "outputs": [
    {
     "name": "stdout",
     "output_type": "stream",
     "text": [
      "Filesystem      Size  Used Avail Use% Mounted on\n",
      "overlay          49G   21G   26G  46% /\n",
      "tmpfs           6.4G     0  6.4G   0% /dev\n",
      "tmpfs           6.4G     0  6.4G   0% /sys/fs/cgroup\n",
      "tmpfs           6.4G  8.0K  6.4G   1% /var/colab\n",
      "/dev/sda1        55G   22G   33G  41% /etc/hosts\n",
      "shm             6.0G     0  6.0G   0% /dev/shm\n",
      "tmpfs           6.4G     0  6.4G   0% /sys/firmware\n"
     ]
    }
   ],
   "source": [
    "# 디스크 사양\n",
    "!df -h"
   ]
  },
  {
   "cell_type": "code",
   "execution_count": 1,
   "metadata": {
    "colab": {
     "base_uri": "https://localhost:8080/",
     "height": 316
    },
    "colab_type": "code",
    "executionInfo": {
     "elapsed": 2094,
     "status": "ok",
     "timestamp": 1556089314062,
     "user": {
      "displayName": "SSBB",
      "photoUrl": "",
      "userId": "02192221719466589460"
     },
     "user_tz": -540
    },
    "id": "4bPU2nSfJgtE",
    "outputId": "60e0b1fc-27b5-4b8c-9e24-69d14cce4d3c"
   },
   "outputs": [
    {
     "name": "stdout",
     "output_type": "stream",
     "text": [
      "Wed Apr 24 07:01:50 2019       \n",
      "+-----------------------------------------------------------------------------+\n",
      "| NVIDIA-SMI 418.56       Driver Version: 410.79       CUDA Version: 10.0     |\n",
      "|-------------------------------+----------------------+----------------------+\n",
      "| GPU  Name        Persistence-M| Bus-Id        Disp.A | Volatile Uncorr. ECC |\n",
      "| Fan  Temp  Perf  Pwr:Usage/Cap|         Memory-Usage | GPU-Util  Compute M. |\n",
      "|===============================+======================+======================|\n",
      "|   0  Tesla T4            Off  | 00000000:00:04.0 Off |                    0 |\n",
      "| N/A   70C    P8    17W /  70W |      0MiB / 15079MiB |      0%      Default |\n",
      "+-------------------------------+----------------------+----------------------+\n",
      "                                                                               \n",
      "+-----------------------------------------------------------------------------+\n",
      "| Processes:                                                       GPU Memory |\n",
      "|  GPU       PID   Type   Process name                             Usage      |\n",
      "|=============================================================================|\n",
      "|  No running processes found                                                 |\n",
      "+-----------------------------------------------------------------------------+\n"
     ]
    }
   ],
   "source": [
    "!nvidia-smi"
   ]
  },
  {
   "cell_type": "code",
   "execution_count": 2,
   "metadata": {
    "colab": {
     "base_uri": "https://localhost:8080/",
     "height": 34
    },
    "colab_type": "code",
    "executionInfo": {
     "elapsed": 2674,
     "status": "ok",
     "timestamp": 1556089352922,
     "user": {
      "displayName": "SSBB",
      "photoUrl": "",
      "userId": "02192221719466589460"
     },
     "user_tz": -540
    },
    "id": "MfUqq0JBJj4u",
    "outputId": "f5f72bec-0e59-42f1-c2ea-f3a8a40f125f"
   },
   "outputs": [
    {
     "name": "stderr",
     "output_type": "stream",
     "text": [
      "Using TensorFlow backend.\n"
     ]
    }
   ],
   "source": [
    "import matplotlib.pyplot as plt\n",
    "import seaborn as sns\n",
    "import statsmodels as sm\n",
    "import sklearn as sk \n",
    "import tensorflow as tf\n",
    "import pandas as pd\n",
    "import numpy as np\n",
    "import keras\n",
    "import scipy\n",
    "import sympy\n",
    "import datetime\n",
    "import xgboost as xgb"
   ]
  },
  {
   "cell_type": "code",
   "execution_count": 0,
   "metadata": {
    "colab": {},
    "colab_type": "code",
    "id": "X-tkAwHcK1Ib"
   },
   "outputs": [],
   "source": []
  }
 ],
 "metadata": {
  "accelerator": "GPU",
  "colab": {
   "collapsed_sections": [],
   "name": "google 콜랩 사용법.ipynb",
   "provenance": [],
   "version": "0.3.2"
  },
  "kernelspec": {
   "display_name": "Python 3",
   "language": "python",
   "name": "python3"
  },
  "language_info": {
   "codemirror_mode": {
    "name": "ipython",
    "version": 3
   },
   "file_extension": ".py",
   "mimetype": "text/x-python",
   "name": "python",
   "nbconvert_exporter": "python",
   "pygments_lexer": "ipython3",
   "version": "3.7.1"
  }
 },
 "nbformat": 4,
 "nbformat_minor": 1
}
